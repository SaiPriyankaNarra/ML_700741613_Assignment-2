{
  "metadata": {
    "language_info": {
      "codemirror_mode": {
        "name": "python",
        "version": 3
      },
      "file_extension": ".py",
      "mimetype": "text/x-python",
      "name": "python",
      "nbconvert_exporter": "python",
      "pygments_lexer": "ipython3",
      "version": "3.8"
    },
    "kernelspec": {
      "name": "python",
      "display_name": "Python (Pyodide)",
      "language": "python"
    }
  },
  "nbformat_minor": 4,
  "nbformat": 4,
  "cells": [
    {
      "cell_type": "code",
      "source": "for i in range(0, 5):\n    # This inner loop will print the stars\n    for j in range(0, i + 1):\n        print(\"*\", end=' ')\n    # Change line after each iteration\n    print(\" \")\n# For second pattern\nfor i in range(+5, 0, -1):\n    for j in range(0, i - 1):\n        print(\"*\", end=' ')\n    print(\" \")",
      "metadata": {
        "trusted": true
      },
      "execution_count": 1,
      "outputs": [
        {
          "name": "stdout",
          "text": "*  \n* *  \n* * *  \n* * * *  \n* * * * *  \n* * * *  \n* * *  \n* *  \n*  \n \n",
          "output_type": "stream"
        }
      ]
    },
    {
      "cell_type": "code",
      "source": "my_list = [10, 20, 30, 40, 50, 60, 70, 80, 90, 100]\n\nfor i in range(1, len(my_list), 2):\n    print(my_list[i])\n",
      "metadata": {
        "trusted": true
      },
      "execution_count": 2,
      "outputs": [
        {
          "name": "stdout",
          "text": "20\n40\n60\n80\n100\n",
          "output_type": "stream"
        }
      ]
    },
    {
      "cell_type": "code",
      "source": "x = [23, \"Python\", 23.98]\n\ny = []\nfor i in x:\n    y.append(type(i))\n\nprint(x)\nprint(y)\n",
      "metadata": {
        "trusted": true
      },
      "execution_count": 3,
      "outputs": [
        {
          "name": "stdout",
          "text": "[23, 'Python', 23.98]\n[<class 'int'>, <class 'str'>, <class 'float'>]\n",
          "output_type": "stream"
        }
      ]
    },
    {
      "cell_type": "code",
      "source": "def get_unique_list(input_list):\n    unique_list = []\n    for item in input_list:\n        if item not in unique_list:\n            unique_list.append(item)\n    return unique_list\n\nsample_list = [1, 2, 3, 3, 3, 3, 4, 5]\nprint(get_unique_list(sample_list))\n",
      "metadata": {
        "trusted": true
      },
      "execution_count": 4,
      "outputs": [
        {
          "name": "stdout",
          "text": "[1, 2, 3, 4, 5]\n",
          "output_type": "stream"
        }
      ]
    },
    {
      "cell_type": "code",
      "source": "def count_letters(input_string):\n    upper_count = 0\n    lower_count = 0\n    for char in input_string:\n        if char.isupper():\n            upper_count += 1\n        elif char.islower():\n            lower_count += 1\n    return upper_count, lower_count\n\ninput_string = 'The quick Brow Fox'\nupper_count, lower_count = count_letters(input_string)\n\nprint(\"No. of Upper-case characters:\", upper_count)\nprint(\"No. of Lower-case characters:\", lower_count)\n",
      "metadata": {
        "trusted": true
      },
      "execution_count": 5,
      "outputs": [
        {
          "name": "stdout",
          "text": "No. of Upper-case characters: 3\nNo. of Lower-case characters: 12\n",
          "output_type": "stream"
        }
      ]
    },
    {
      "cell_type": "code",
      "source": "",
      "metadata": {},
      "execution_count": null,
      "outputs": []
    }
  ]
}